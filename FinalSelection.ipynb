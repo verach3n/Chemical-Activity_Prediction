{
 "cells": [
  {
   "cell_type": "markdown",
   "id": "8919f98b",
   "metadata": {},
   "source": [
    "# 3 Final Model Selection"
   ]
  },
  {
   "cell_type": "code",
   "execution_count": 2,
   "id": "e81f8da9",
   "metadata": {},
   "outputs": [],
   "source": [
    "import os\n",
    "import re\n",
    "import pandas as pd\n",
    "import numpy as np"
   ]
  },
  {
   "cell_type": "code",
   "execution_count": 3,
   "id": "9db57c98",
   "metadata": {},
   "outputs": [
    {
     "data": {
      "text/plain": [
       "['.DS_Store',\n",
       " 'Test3.ipynb',\n",
       " 'Untitled.ipynb',\n",
       " 'Template',\n",
       " 'Features.ipynb',\n",
       " 'README.md',\n",
       " 'template3.ipynb',\n",
       " '.gitignore',\n",
       " 'Template.ipynb',\n",
       " '.ipynb_checkpoints',\n",
       " '.git',\n",
       " 'KNeighborsClassifier_Morgan_Result.csv']"
      ]
     },
     "execution_count": 3,
     "metadata": {},
     "output_type": "execute_result"
    }
   ],
   "source": [
    "os.listdir()"
   ]
  },
  {
   "cell_type": "code",
   "execution_count": 7,
   "id": "bb2b928d",
   "metadata": {},
   "outputs": [
    {
     "data": {
      "text/html": [
       "<div>\n",
       "<style scoped>\n",
       "    .dataframe tbody tr th:only-of-type {\n",
       "        vertical-align: middle;\n",
       "    }\n",
       "\n",
       "    .dataframe tbody tr th {\n",
       "        vertical-align: top;\n",
       "    }\n",
       "\n",
       "    .dataframe thead th {\n",
       "        text-align: right;\n",
       "    }\n",
       "</style>\n",
       "<table border=\"1\" class=\"dataframe\">\n",
       "  <thead>\n",
       "    <tr style=\"text-align: right;\">\n",
       "      <th></th>\n",
       "      <th>KNeighborsClassifier_Morgan</th>\n",
       "    </tr>\n",
       "  </thead>\n",
       "  <tbody>\n",
       "    <tr>\n",
       "      <th>0</th>\n",
       "      <td>0.64004</td>\n",
       "    </tr>\n",
       "    <tr>\n",
       "      <th>0</th>\n",
       "      <td>0.00000</td>\n",
       "    </tr>\n",
       "    <tr>\n",
       "      <th>1</th>\n",
       "      <td>0.00000</td>\n",
       "    </tr>\n",
       "    <tr>\n",
       "      <th>2</th>\n",
       "      <td>0.00000</td>\n",
       "    </tr>\n",
       "    <tr>\n",
       "      <th>3</th>\n",
       "      <td>0.00000</td>\n",
       "    </tr>\n",
       "    <tr>\n",
       "      <th>...</th>\n",
       "      <td>...</td>\n",
       "    </tr>\n",
       "    <tr>\n",
       "      <th>52081</th>\n",
       "      <td>0.00000</td>\n",
       "    </tr>\n",
       "    <tr>\n",
       "      <th>52082</th>\n",
       "      <td>0.00000</td>\n",
       "    </tr>\n",
       "    <tr>\n",
       "      <th>52083</th>\n",
       "      <td>0.00000</td>\n",
       "    </tr>\n",
       "    <tr>\n",
       "      <th>52084</th>\n",
       "      <td>0.00000</td>\n",
       "    </tr>\n",
       "    <tr>\n",
       "      <th>52085</th>\n",
       "      <td>0.00000</td>\n",
       "    </tr>\n",
       "  </tbody>\n",
       "</table>\n",
       "<p>52087 rows × 1 columns</p>\n",
       "</div>"
      ],
      "text/plain": [
       "       KNeighborsClassifier_Morgan\n",
       "0                          0.64004\n",
       "0                          0.00000\n",
       "1                          0.00000\n",
       "2                          0.00000\n",
       "3                          0.00000\n",
       "...                            ...\n",
       "52081                      0.00000\n",
       "52082                      0.00000\n",
       "52083                      0.00000\n",
       "52084                      0.00000\n",
       "52085                      0.00000\n",
       "\n",
       "[52087 rows x 1 columns]"
      ]
     },
     "metadata": {},
     "output_type": "display_data"
    }
   ],
   "source": [
    "pattern = \"Result\"\n",
    "results = pd.DataFrame()\n",
    "for d in os.listdir():\n",
    "    if re.search(pattern,d)!=None:\n",
    "        temp = pd.read_csv(d,index_col=0)\n",
    "        results[d[0:-11]] = temp.iloc[:, 0]\n",
    "display(results)"
   ]
  },
  {
   "cell_type": "code",
   "execution_count": 6,
   "id": "ec5e8334",
   "metadata": {},
   "outputs": [
    {
     "name": "stdout",
     "output_type": "stream",
     "text": [
      "0.6400397120818478 KNeighborsClassifier_Morgan\n"
     ]
    }
   ],
   "source": [
    "AUC = results.iloc[0].max()\n",
    "name = results.iloc[0].idxmax()\n",
    "print(AUC, name)"
   ]
  }
 ],
 "metadata": {
  "kernelspec": {
   "display_name": "my-rdkit-env",
   "language": "python",
   "name": "my-rdkit-env"
  },
  "language_info": {
   "codemirror_mode": {
    "name": "ipython",
    "version": 3
   },
   "file_extension": ".py",
   "mimetype": "text/x-python",
   "name": "python",
   "nbconvert_exporter": "python",
   "pygments_lexer": "ipython3",
   "version": "3.10.8"
  }
 },
 "nbformat": 4,
 "nbformat_minor": 5
}
